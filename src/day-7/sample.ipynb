{
 "cells": [
  {
   "cell_type": "code",
   "execution_count": 1,
   "metadata": {},
   "outputs": [
    {
     "name": "stdout",
     "output_type": "stream",
     "text": [
      "1348005 12785886\n"
     ]
    }
   ],
   "source": [
    "from collections import defaultdict\n",
    "from itertools import accumulate\n",
    "\n",
    "\n",
    "dirs = defaultdict(int)\n",
    "\n",
    "for line in open('input.txt'):\n",
    "    match line.split():\n",
    "        case '$', 'cd', '/': curr = ['/']\n",
    "        case '$', 'cd', '..': curr.pop()\n",
    "        case '$', 'cd', x: curr.append(x+'/')\n",
    "        case '$', 'ls': pass\n",
    "        case 'dir', _: pass\n",
    "        case size, _:\n",
    "            for p in accumulate(curr):\n",
    "                dirs[p] += int(size)\n",
    "\n",
    "print(sum(s for s in dirs.values() if s <= 100_000),\n",
    "      min(s for s in dirs.values() if s >= dirs['/'] - 40_000_000))"
   ]
  }
 ],
 "metadata": {
  "kernelspec": {
   "display_name": "Python 3",
   "language": "python",
   "name": "python3"
  },
  "language_info": {
   "codemirror_mode": {
    "name": "ipython",
    "version": 3
   },
   "file_extension": ".py",
   "mimetype": "text/x-python",
   "name": "python",
   "nbconvert_exporter": "python",
   "pygments_lexer": "ipython3",
   "version": "3.11.1 (tags/v3.11.1:a7a450f, Dec  6 2022, 19:58:39) [MSC v.1934 64 bit (AMD64)]"
  },
  "orig_nbformat": 4,
  "vscode": {
   "interpreter": {
    "hash": "1c34380035e7f2dd53af1b06913f364610c1d723d34e6d43f5fb03748c5b5732"
   }
  }
 },
 "nbformat": 4,
 "nbformat_minor": 2
}
